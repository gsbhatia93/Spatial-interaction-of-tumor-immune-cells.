{
 "cells": [
  {
   "cell_type": "code",
   "execution_count": 118,
   "metadata": {},
   "outputs": [],
   "source": [
    "import arcpy\n",
    "from arcpy import env"
   ]
  },
  {
   "cell_type": "code",
   "execution_count": 119,
   "metadata": {},
   "outputs": [],
   "source": [
    "input_table = \"C:\\\\Users\\\\gsbhatia\\\\Desktop\\\\kernel_density\\\\kde_gaussian_group_1\\\\D3Grp1.csv\""
   ]
  },
  {
   "cell_type": "code",
   "execution_count": 120,
   "metadata": {},
   "outputs": [],
   "source": [
    "cursor = arcpy.SearchCursor(input_table)"
   ]
  },
  {
   "cell_type": "code",
   "execution_count": 121,
   "metadata": {},
   "outputs": [],
   "source": [
    "env.workspace = 'C:\\\\Users\\\\gsbhatia\\\\Desktop\\\\kernel_density'"
   ]
  },
  {
   "cell_type": "code",
   "execution_count": 122,
   "metadata": {},
   "outputs": [],
   "source": [
    "# arcpy.MakeTableView_management(in_table=input_table, out_view='viewtemp')\n",
    "out_dbf = 'C:\\\\Users\\\\gsbhatia\\\\Desktop\\\\kernel_density\\\\D3Grp1.dbf'\n",
    "# arcpy.TableToTable_conversion('viewtemp', out_gdb, 'tempTable')"
   ]
  },
  {
   "cell_type": "code",
   "execution_count": 123,
   "metadata": {},
   "outputs": [
    {
     "data": {
      "text/html": [
       "<h2>Output</h2>C:\\Users\\gsbhatia\\Desktop\\kernel_density\\D3Grp1.dbf<h2>Messages</h2>Start Time: Tuesday, December 8, 2020 1:20:08 AM<br/>Succeeded at Tuesday, December 8, 2020 1:20:08 AM (Elapsed Time: 0.11 seconds)<br/><style>.rendered_html td, .rendered_html th {text-align: left;}.rendered_html tbody {border: 1px solid black;}</style>"
      ],
      "text/plain": [
       "<Result 'C:\\\\Users\\\\gsbhatia\\\\Desktop\\\\kernel_density\\\\D3Grp1.dbf'>"
      ]
     },
     "execution_count": 123,
     "metadata": {},
     "output_type": "execute_result"
    }
   ],
   "source": [
    "arcpy.CopyRows_management(input_table,out_dbf)"
   ]
  },
  {
   "cell_type": "code",
   "execution_count": 124,
   "metadata": {},
   "outputs": [
    {
     "data": {
      "text/html": [
       "<h2>Output</h2>C:\\Users\\gsbhatia\\Desktop\\kernel_density\\out.gdb<h2>Messages</h2>Start Time: Tuesday, December 8, 2020 1:20:10 AM<br/>Converted C:\\Users\\gsbhatia\\Desktop\\kernel_density\\D3Grp1.dbf to C:\\Users\\gsbhatia\\Desktop\\kernel_density\\out.gdb\\D3Grp1 successfully.<br/>Succeeded at Tuesday, December 8, 2020 1:20:11 AM (Elapsed Time: 1.17 seconds)<br/><style>.rendered_html td, .rendered_html th {text-align: left;}.rendered_html tbody {border: 1px solid black;}</style>"
      ],
      "text/plain": [
       "<Result 'C:\\\\Users\\\\gsbhatia\\\\Desktop\\\\kernel_density\\\\out.gdb'>"
      ]
     },
     "execution_count": 124,
     "metadata": {},
     "output_type": "execute_result"
    }
   ],
   "source": [
    "out_folder = 'C:\\\\Users\\\\gsbhatia\\\\Desktop\\\\kernel_density'\n",
    "out_location = 'C:\\\\Users\\\\gsbhatia\\\\Desktop\\\\kernel_density\\\\out.gdb'\n",
    "arcpy.CreateFileGDB_management(out_folder, \"out.gdb\")\n",
    "arcpy.TableToGeodatabase_conversion('D3Grp1.dbf', out_location)"
   ]
  },
  {
   "cell_type": "code",
   "execution_count": 142,
   "metadata": {},
   "outputs": [],
   "source": [
    "tables = arcpy.ListTables()"
   ]
  },
  {
   "cell_type": "code",
   "execution_count": 143,
   "metadata": {},
   "outputs": [
    {
     "data": {
      "text/plain": [
       "[]"
      ]
     },
     "execution_count": 143,
     "metadata": {},
     "output_type": "execute_result"
    }
   ],
   "source": [
    "tables"
   ]
  },
  {
   "cell_type": "code",
   "execution_count": 135,
   "metadata": {},
   "outputs": [
    {
     "data": {
      "text/html": [
       "<h2>Output</h2>C:\\Users\\gsbhatia\\Desktop\\kernel_density\\out.gdb\\D3Grp1<h2>Messages</h2>Start Time: Tuesday, December 8, 2020 2:43:48 AM<br/>Succeeded at Tuesday, December 8, 2020 2:43:51 AM (Elapsed Time: 2.29 seconds)<br/><style>.rendered_html td, .rendered_html th {text-align: left;}.rendered_html tbody {border: 1px solid black;}</style>"
      ],
      "text/plain": [
       "<Result 'C:\\\\Users\\\\gsbhatia\\\\Desktop\\\\kernel_density\\\\out.gdb\\\\D3Grp1'>"
      ]
     },
     "execution_count": 135,
     "metadata": {},
     "output_type": "execute_result"
    }
   ],
   "source": [
    "arcpy.env.workspace = 'C:\\\\Users\\\\gsbhatia\\\\Desktop\\\\kernel_density\\\\out.gdb'\n",
    "# spatial_references = arcpy.ListSpatialReferences()\n",
    "# print(spatial_references)\n",
    "sr_path = r'C:\\Users\\gsbhatia\\AppData\\Local\\ESRI\\ArcGISPro\\Favorites\\gb_coordinate.prj'\n",
    "sr =  arcpy.SpatialReference(sr_path)\n",
    "arcpy.management.XYTableToPoint(input_table, \"D3Grp1\",\"CentroidX\", \"CentroidY\",coordinate_system=sr)"
   ]
  },
  {
   "cell_type": "code",
   "execution_count": 144,
   "metadata": {},
   "outputs": [
    {
     "name": "stdout",
     "output_type": "stream",
     "text": [
      "['D3Grp1', 'D3Grp1Results']\n"
     ]
    }
   ],
   "source": [
    "arcpy.env.workspace = 'C:\\\\Users\\\\gsbhatia\\\\Desktop\\\\kernel_density\\\\out.gdb'\n",
    "featureclasses = arcpy.ListFeatureClasses()\n",
    "print(featureclasses)"
   ]
  },
  {
   "cell_type": "code",
   "execution_count": 140,
   "metadata": {},
   "outputs": [],
   "source": [
    "import os\n",
    "\n",
    "try:\n",
    "    # Set the workspace and input features.\n",
    "    arcpy.env.workspace = out_location\n",
    "    inputFeatures = 'D3Grp1'\n",
    "\n",
    "    # Set the output workspace and output name.\n",
    "    outws = out_location\n",
    "    outputName = 'D3Grp1Results'\n",
    "\n",
    "    # Set input features, dependent variable, and explanatory variable.\n",
    "    depVar = 'tumor_kde'\n",
    "    explVar = 'immune_kde'\n",
    "\n",
    "    # Set number of neighbors and permutations.\n",
    "    numNeighbors = 100\n",
    "    numPerms = '99'\n",
    "\n",
    "    # Choose to create popups.\n",
    "    popUps = 'CREATE_POPUP'\n",
    "\n",
    "    # Choose confidence level and apply False Discovery Rate correction.\n",
    "    confLevel = '95%'\n",
    "    fdr = 'APPLY_FDR'\n",
    "\n",
    "    # Set the scaling factor.\n",
    "    scaleFactor = 0.5\n",
    "    spatial_ref = None\n",
    "    # Run Local Bivariate Regression.\n",
    "    arcpy.LocalBivariateRelationships_stats(inputFeatures, depVar, explVar, \n",
    "                                            os.path.join(outws, outputName), \n",
    "                                            numNeighbors, numPerms, popUps, \n",
    "                                            confLevel, fdr, scaleFactor)\n",
    "\n",
    "except arcpy.ExecuteError:\n",
    "    # If an error occurred when running the tool, print out the error message.\n",
    "    print(arcpy.GetMessages())"
   ]
  },
  {
   "cell_type": "code",
   "execution_count": 156,
   "metadata": {},
   "outputs": [
    {
     "data": {
      "text/html": [
       "<h2>Output</h2>C:\\Users\\gsbhatia\\Desktop\\kernel_density\\out.gdb\\sumstats<h2>Messages</h2>Start Time: Tuesday, December 8, 2020 3:15:54 AM<br/>Succeeded at Tuesday, December 8, 2020 3:15:55 AM (Elapsed Time: 0.41 seconds)<br/><style>.rendered_html td, .rendered_html th {text-align: left;}.rendered_html tbody {border: 1px solid black;}</style>"
      ],
      "text/plain": [
       "<Result 'C:\\\\Users\\\\gsbhatia\\\\Desktop\\\\kernel_density\\\\out.gdb\\\\sumstats'>"
      ]
     },
     "execution_count": 156,
     "metadata": {},
     "output_type": "execute_result"
    }
   ],
   "source": [
    "out_table = 'sumstats'\n",
    "\n",
    "intable = 'D3Grp1Results'\n",
    "# for field in arcpy.ListFields(intable):\n",
    "#     print(field.name)\n",
    "    \n",
    "stats = [['LBR_TYPE','COUNT'],['LBR_SIG','COUNT']]    \n",
    "arcpy.Statistics_analysis(intable, out_table, stats)\n"
   ]
  },
  {
   "cell_type": "code",
   "execution_count": 159,
   "metadata": {},
   "outputs": [
    {
     "name": "stdout",
     "output_type": "stream",
     "text": [
      "                                        Shape  ...                                         HTML_CHART\n",
      "0     (1127.6000003814697, 961.2999992370605)  ...  <html>\\n  <head>\\n    <meta charset = \"utf-8\">...\n",
      "1     (1595.8999996185303, 969.7000007629395)  ...  <html>\\n  <head>\\n    <meta charset = \"utf-8\">...\n",
      "2                 (1253.6999998092651, 968.5)  ...  <html>\\n  <head>\\n    <meta charset = \"utf-8\">...\n",
      "3                 (1515.0, 971.8999996185303)  ...  <html>\\n  <head>\\n    <meta charset = \"utf-8\">...\n",
      "4     (1210.3000001907349, 971.2000007629395)  ...  <html>\\n  <head>\\n    <meta charset = \"utf-8\">...\n",
      "..                                        ...  ...                                                ...\n",
      "995  (19489.699999809265, 3406.7999992370605)  ...  <html>\\n  <head>\\n    <meta charset = \"utf-8\">...\n",
      "996               (19168.89999961853, 3407.0)  ...  <html>\\n  <head>\\n    <meta charset = \"utf-8\">...\n",
      "997              (19566.800000190735, 3407.5)  ...  <html>\\n  <head>\\n    <meta charset = \"utf-8\">...\n",
      "998               (19592.10000038147, 3406.5)  ...  <html>\\n  <head>\\n    <meta charset = \"utf-8\">...\n",
      "999               (19594.10000038147, 3406.5)  ...  <html>\\n  <head>\\n    <meta charset = \"utf-8\">...\n",
      "\n",
      "[1000 rows x 20 columns]\n"
     ]
    }
   ],
   "source": [
    "import pandas \n",
    "\n",
    "# Get a list of field names to display\n",
    "field_names = [i.name for i in arcpy.ListFields(intable) if i.type != 'OID']\n",
    "\n",
    "# Open a cursor to extract results from stats table\n",
    "cursor = arcpy.da.SearchCursor(intable, field_names)\n",
    "\n",
    "# Create a pandas dataframe to display results\n",
    "df = pandas.DataFrame(data=[row for row in cursor],\n",
    "                      columns=field_names)\n",
    "\n",
    "print(df)"
   ]
  },
  {
   "cell_type": "code",
   "execution_count": 163,
   "metadata": {},
   "outputs": [
    {
     "data": {
      "text/plain": [
       "Positive Linear      0.372\n",
       "Not Significant      0.306\n",
       "Concave              0.142\n",
       "Convex               0.102\n",
       "Undefined Complex    0.078\n",
       "Name: LBR_TYPE, dtype: float64"
      ]
     },
     "execution_count": 163,
     "metadata": {},
     "output_type": "execute_result"
    }
   ],
   "source": [
    "df['LBR_TYPE'].value_counts() / df.shape[0]"
   ]
  },
  {
   "cell_type": "code",
   "execution_count": null,
   "metadata": {},
   "outputs": [],
   "source": []
  }
 ],
 "metadata": {
  "kernelspec": {
   "display_name": "ArcGISPro",
   "language": "Python",
   "name": "python3"
  },
  "language_info": {
   "file_extension": ".py",
   "name": "python",
   "version": "3"
  }
 },
 "nbformat": 4,
 "nbformat_minor": 2
}
