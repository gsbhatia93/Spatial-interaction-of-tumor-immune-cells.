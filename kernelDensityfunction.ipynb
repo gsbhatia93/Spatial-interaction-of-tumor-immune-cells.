{
 "cells": [
  {
   "cell_type": "code",
   "execution_count": 55,
   "metadata": {},
   "outputs": [
    {
     "name": "stdout",
     "output_type": "stream",
     "text": [
      "The autoreload extension is already loaded. To reload it, use:\n",
      "  %reload_ext autoreload\n"
     ]
    }
   ],
   "source": [
    "import time\n",
    "import sklearn\n",
    "import numpy as np\n",
    "import utils \n",
    "import pandas as pd\n",
    "from scipy import stats\n",
    "import matplotlib.pyplot as plt\n",
    "from sklearn.neighbors import KernelDensity\n",
    "%load_ext autoreload\n",
    "%autoreload 2\n",
    "import glob"
   ]
  },
  {
   "cell_type": "code",
   "execution_count": 56,
   "metadata": {},
   "outputs": [],
   "source": [
    "dir1 = '../group_1_data'\n",
    "dir4 = '../group_4_data'\n",
    "\n",
    "file_names1 = glob.glob(dir1+\"/*.txt\")\n",
    "file_names4 = glob.glob(dir4+\"/*.txt\")"
   ]
  },
  {
   "cell_type": "code",
   "execution_count": 24,
   "metadata": {},
   "outputs": [],
   "source": [
    "# df = pd.read_csv('../group_4_data/RP-A695_group_4.txt',header=1)"
   ]
  },
  {
   "cell_type": "code",
   "execution_count": 64,
   "metadata": {},
   "outputs": [],
   "source": [
    "def get_kde(file_name):\n",
    "    print('performing kernel estimation for:',file_name)\n",
    "    df = pd.read_csv(file_name,header=1)\n",
    "    df = df[['CentroidX', 'CentroidY', 'PredictedClass']]\n",
    "    df = df[df['PredictedClass'].isin([1,2])]\n",
    "    print('shape after dropping:',df.shape)\n",
    "\n",
    "    df1 = df[df['PredictedClass'].isin([1])] # 1== tumor\n",
    "    df2 = df[df['PredictedClass'].isin([2])] # 2 == immune\n",
    "\n",
    "    df1 = df1.drop(columns=['PredictedClass'])\n",
    "    df2 = df2.drop(columns=['PredictedClass'])\n",
    "\n",
    "\n",
    "    print('shapes of df1 and df2')\n",
    "    print(df1.shape)\n",
    "    print(df2.shape)\n",
    "\n",
    "    start_time = time.time()\n",
    "\n",
    "    kernel1  = stats.gaussian_kde(df1.T)\n",
    "    kernel2  = stats.gaussian_kde(df2.T)\n",
    "\n",
    "    t = time.time()-start_time\n",
    "    t /= 60\n",
    "    print('time taken:',t)\n",
    "    print('using created kernels to estimate the gaussian values')\n",
    "    \n",
    "    df1_tumor_kde = kernel1(df1.T)\n",
    "    df1_immune_kde = kernel2(df1.T)\n",
    "    print('estimation done for df1')\n",
    "    df2_tumor_kde = kernel1(df2.T)\n",
    "    df2_immune_kde = kernel2(df2.T)\n",
    "\n",
    "    df1['tumor_kde'] = df1_tumor_kde\n",
    "    df1['immune_kde'] = df1_immune_kde\n",
    "    \n",
    "    df2['tumor_kde'] = df2_tumor_kde\n",
    "    df2['immune_kde'] = df2_immune_kde\n",
    "    print('merging and saving!')\n",
    "    df3 = pd.concat([df1,df2])\n",
    "\n",
    "    # adding so that i have the predicted probabilities\n",
    "    df3 = df3.merge(df)\n",
    "    file_name = file_name.replace('.txt','')\n",
    "    df3.to_csv(file_name+'_gaussian_kde_.csv')\n",
    "    print('______done_______')\n",
    "    print()"
   ]
  },
  {
   "cell_type": "code",
   "execution_count": 65,
   "metadata": {},
   "outputs": [
    {
     "name": "stdout",
     "output_type": "stream",
     "text": [
      "performing kernel estimation for: ../group_1_data/D3-A1QA.txt\n",
      "shape after dropping: (143543, 3)\n",
      "shapes of df1 and df2\n",
      "(19024, 2)\n",
      "(124519, 2)\n",
      "time taken: 7.344881693522135e-05\n",
      "using created kernels to estimate the gaussian values\n",
      "estimation done for df1\n",
      "merging and saving!\n",
      "______done_______\n",
      "\n",
      "performing kernel estimation for: ../group_1_data/EE-A2MP.txt\n",
      "shape after dropping: (108403, 3)\n",
      "shapes of df1 and df2\n",
      "(36217, 2)\n",
      "(72186, 2)\n",
      "time taken: 5.928277969360352e-05\n",
      "using created kernels to estimate the gaussian values\n",
      "estimation done for df1\n",
      "merging and saving!\n",
      "______done_______\n",
      "\n",
      "performing kernel estimation for: ../group_1_data/FR-A8YE.txt\n",
      "shape after dropping: (279135, 3)\n",
      "shapes of df1 and df2\n",
      "(60563, 2)\n",
      "(218572, 2)\n",
      "time taken: 0.00015044609705607096\n",
      "using created kernels to estimate the gaussian values\n",
      "estimation done for df1\n",
      "merging and saving!\n",
      "______done_______\n",
      "\n",
      "performing kernel estimation for: ../group_1_data/EE-A2GI.txt\n",
      "shape after dropping: (201438, 3)\n",
      "shapes of df1 and df2\n",
      "(57385, 2)\n",
      "(144053, 2)\n",
      "time taken: 8.382002512613932e-05\n",
      "using created kernels to estimate the gaussian values\n",
      "estimation done for df1\n",
      "merging and saving!\n",
      "______done_______\n",
      "\n"
     ]
    }
   ],
   "source": [
    "for file_name in file_names1:\n",
    "    get_kde(file_name)"
   ]
  },
  {
   "cell_type": "code",
   "execution_count": 67,
   "metadata": {},
   "outputs": [
    {
     "name": "stdout",
     "output_type": "stream",
     "text": [
      "performing kernel estimation for: ../group_4_data/RP-A693.txt\n",
      "shape after dropping: (20736, 3)\n",
      "shapes of df1 and df2\n",
      "(4588, 2)\n",
      "(16148, 2)\n",
      "time taken: 3.5750865936279294e-05\n",
      "using created kernels to estimate the gaussian values\n",
      "estimation done for df1\n",
      "merging and saving!\n",
      "______done_______\n",
      "\n",
      "performing kernel estimation for: ../group_4_data/WE-A8ZT.txt\n",
      "shape after dropping: (188709, 3)\n",
      "shapes of df1 and df2\n",
      "(39034, 2)\n",
      "(149675, 2)\n",
      "time taken: 0.0001062154769897461\n",
      "using created kernels to estimate the gaussian values\n",
      "estimation done for df1\n",
      "merging and saving!\n",
      "______done_______\n",
      "\n",
      "performing kernel estimation for: ../group_4_data/RP-A695_group_4.txt\n",
      "shape after dropping: (81017, 3)\n",
      "shapes of df1 and df2\n",
      "(28069, 2)\n",
      "(52948, 2)\n",
      "time taken: 5.028247833251953e-05\n",
      "using created kernels to estimate the gaussian values\n",
      "estimation done for df1\n",
      "merging and saving!\n",
      "______done_______\n",
      "\n",
      "performing kernel estimation for: ../group_4_data/GN-A263.txt\n",
      "shape after dropping: (79628, 3)\n",
      "shapes of df1 and df2\n",
      "(22399, 2)\n",
      "(57229, 2)\n",
      "time taken: 5.1184495290120444e-05\n",
      "using created kernels to estimate the gaussian values\n",
      "estimation done for df1\n",
      "merging and saving!\n",
      "______done_______\n",
      "\n",
      "performing kernel estimation for: ../group_4_data/WE-A8K5.txt\n",
      "shape after dropping: (66836, 3)\n",
      "shapes of df1 and df2\n",
      "(24122, 2)\n",
      "(42714, 2)\n",
      "time taken: 4.354715347290039e-05\n",
      "using created kernels to estimate the gaussian values\n",
      "estimation done for df1\n",
      "merging and saving!\n",
      "______done_______\n",
      "\n"
     ]
    }
   ],
   "source": [
    "for file_name in file_names4:\n",
    "    get_kde(file_name)"
   ]
  },
  {
   "cell_type": "code",
   "execution_count": null,
   "metadata": {},
   "outputs": [],
   "source": []
  }
 ],
 "metadata": {
  "kernelspec": {
   "display_name": "Python 3",
   "language": "python",
   "name": "python3"
  },
  "language_info": {
   "codemirror_mode": {
    "name": "ipython",
    "version": 3
   },
   "file_extension": ".py",
   "mimetype": "text/x-python",
   "name": "python",
   "nbconvert_exporter": "python",
   "pygments_lexer": "ipython3",
   "version": "3.7.4"
  }
 },
 "nbformat": 4,
 "nbformat_minor": 4
}
